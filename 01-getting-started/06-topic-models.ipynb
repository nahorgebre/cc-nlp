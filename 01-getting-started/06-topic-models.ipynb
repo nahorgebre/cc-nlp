{
 "nbformat": 4,
 "nbformat_minor": 2,
 "metadata": {
  "language_info": {
   "name": "python",
   "codemirror_mode": {
    "name": "ipython",
    "version": 3
   },
   "version": "3.7.7-final"
  },
  "orig_nbformat": 2,
  "file_extension": ".py",
  "mimetype": "text/x-python",
  "name": "python",
  "npconvert_exporter": "python",
  "pygments_lexer": "ipython3",
  "version": 3,
  "kernelspec": {
   "name": "python37764bitvenvvenvf8484b2721704b8daa1436929854442d",
   "display_name": "Python 3.7.7 64-bit ('venv': venv)"
  }
 },
 "cells": [
  {
   "cell_type": "markdown",
   "metadata": {},
   "source": [
    "# Topic Models\n",
    "__Topic modeling__ is an area of NLP dedicated to uncovering hodden topics within a body of language.\n",
    "<br>\n",
    "<br>\n",
    "A common technique is to deprioritize the most common words and prioritize less frequently used terms as topics in a process known as __term frequency-inverse document frequency (tf-idf)__. The liblaries __gensim__ and __sklearn__ have modules to handle __tf-idf__.\n",
    "<br>\n",
    "<br>\n",
    "__Latent Dirichlet allocation (LDA)__ is a statistical model that takes your documents and determines which words keep popping up together in the same contexts. The liblary __sklearn__ has modules to handle that issue.\n",
    "<br>\n",
    "<br>\n",
    "__Word2vec__ can map out your topic model results spatially as vectors so that similarly used words are closer together. Word-to-vector mapping are known as a word embedding."
   ]
  },
  {
   "cell_type": "code",
   "execution_count": 2,
   "metadata": {},
   "outputs": [
    {
     "output_type": "stream",
     "name": "stdout",
     "text": "\nTo Sherlock Holmes she is always THE woman. I have seldom heard\nhim mention her under any other name. In his eyes she eclipses\nand predominates the whole of her sex. It was not that he felt\nany emotion akin to love for Irene Adler. All emotions, and that\none particularly, were abhorrent to his cold\n"
    }
   ],
   "source": [
    "from sherlock_holmes import bohemia_ch1, bohemia_ch2, bohemia_ch3, boscombe_ch1, boscombe_ch2, boscombe_ch3\n",
    "corpus = [bohemia_ch1, bohemia_ch2, bohemia_ch3, boscombe_ch1, boscombe_ch2, boscombe_ch3]\n",
    "print(bohemia_ch1[:300])"
   ]
  },
  {
   "cell_type": "code",
   "execution_count": 3,
   "metadata": {
    "tags": [
     "outputPrepend"
    ]
   },
   "outputs": [
    {
     "output_type": "stream",
     "name": "stdout",
     "text": "k follow father idea front hundred yard pool hear cry cooee usual signal father hurry forward find stand pool appear much surprise see ask rather roughly conversation ensue lead high word almost blow father man violent temper see passion become ungovernable leave return towards hatherley farm go 150 yard however hear hideous outcry behind cause run back find father expire upon grind head terribly injure drop gun hold arm almost instantly expire kneel beside minute make way mr turner lodge keeper house near ask assistance saw one near father return idea come injury popular man somewhat cold forbid manner far know active enemy know nothing far matter coroner father make statement die witness mumble word could catch allusion rat coroner understand witness convey mean think delirious coroner point upon father final quarrel witness prefer answer coroner afraid must press witness really impossible tell assure nothing sad tragedy follow coroner court decide need point refusal answer prejudice case considerably future proceed may arise witness must still refuse coroner understand cry cooee common signal father witness coroner utter saw even know return bristol witness considerable confusion know juryman see nothing arouse suspicion return hearing cry find father fatally injure witness nothing definite coroner mean witness disturb excite rush open could think nothing except father yet vague impression run forward something lay upon grind leave seem something grey colour coat sort plaid perhaps rise father look round go mean disappear go help yes go say feel something far body dozen yard far edge wood remove within dozen yard yes back towards conclude examination witness see say glance column coroner conclude remark rather severe upon young mccarthy call attention reason discrepancy father signal see also refusal give detail conversation father singular account father die word remark much son holmes laugh softly stretch upon cushion seat coroner pain say single strong point young man favour see alternately give credit much imagination little little could invent cause quarrel would give sympathy jury much evolve inner consciousness anything outr die reference rat incident vanish cloth sir shall approach case point view young man say true shall see whither hypothesis lead u pocket petrarch another word shall say case scene action lunch swindon see shall twenty minute nearly four clock last pass beautiful stroud valley broad gleam severn find pretty little country town ross lean ferret like man furtive sly look wait u upon platform spite light brown dustcoat leather legging wear deference rustic surround difficulty recognise lestrade scotland yard drive hereford arm room already engage u order carriage say lestrade sit cup tea know energetic nature would happy scene crime nice complimentary holmes answer entirely question barometric pressure lestrade look startle quite follow say glass twenty nine see wind cloud sky caseful cigarette need smoking sofa much superior usual country hotel abomination think probable shall use carriage night lestrade laugh indulgently doubt already form conclusion newspaper say case plain pikestaff one go plain become still course one refuse lady positive one hear would opinion though repeatedly tell nothing could already bless soul carriage door', 'hardly speak rush room one lovely young woman ever see life violet eye shin lip part pink flush upon cheek think natural reserve lose overpower excitement concern oh mr sherlock holmes cry glance one u finally woman quick intuition fasten upon companion glad come drive tell know james know want start upon work know never let doubt upon point know since little child know fault one else tender hearted hurt fly charge absurd anyone really know hope may clear miss turner say sherlock holmes may rely upon read evidence form conclusion see loophole flaw think innocent think probable cry throw back head look defiantly lestrade hear give hop lestrade shrug shoulder afraid colleague little quick form conclusion say right oh know right james never quarrel father sure reason would speak coroner concern way ask holmes time hide anything james father many disagreement mr mccarthy anxious marriage u james always love brother sister course young see little life yet well naturally wish anything like yet quarrel sure one father ask holmes favour union averse also one mr mccarthy favour quick blush pass fresh young face holmes shoot one keen question glance thank information say may see father call morrow afraid doctor win allow doctor yes hear poor father never strong year back break completely take bed dr willow say wreck nervous system shatter mr mccarthy man alive know dad old day victoria ha victoria important yes mine quite gold mine understand mr turner make money yes certainly thank miss turner material assistance tell news morrow doubt go prison see james oh mr holmes tell know innocent miss turner must go home dad ill miss leave good bye god help undertake hurry room impulsively enter hear wheel carriage rattle street ashamed holmes say lestrade dignity minute silence raise hop bind disappoint tender heart call cruel think see way clear james mccarthy say holmes order see prison yes shall reconsider resolution go still time take train hereford see night ample let u watson fear find slow shall away couple hour walk station wander street little town finally return hotel lay upon sofa try interest yellow back novel puny plot story thin however compare deep mystery grope find attention wander continually action fact last fling across room give entirely consideration event day suppose unhappy young man story absolutely true hellish thing absolutely unforeseen extraordinary calamity could occur time part father moment draw back scream rush glade something terrible deadly could might nature injury reveal something medical instinct ring bell call weekly county paper contain verbatim account inquest surgeon deposition state posterior third leave parietal bone leave half occipital bone shatter heavy blow blunt weapon mark spot upon head clearly blow must strike behind extent favour accuse see quarrel face face father still go much old man might turn back blow fell still might worth call holmes attention peculiar die reference rat could mean could delirium man die sudden blow commonly become delirious likely attempt explain meet fate could indicate cudgel brain find possible explanation incident grey cloth see young mccarthy true murderer must drop part dress presumably overcoat flight must hardihood return carry away instant son kneeling back turn dozen pace tissue mystery improbability whole thing wonder lestrade opinion yet much faith sherlock holmes insight could lose hope long every fresh fact seem strengthen conviction young mccarthy innocence late sherlock holmes return come back alone lestrade stay lodging town glass still keep high remark sit importance rain able go grind hand man best keenest nice work wish fag long journey see young mccarthy learn nothing could throw light none incline think one time know screen convince puzzle everyone else quick witted youth though comely look think sound heart admire taste remark indeed fact averse marriage charm young lady miss turner ah thereby hang rather painful tale fellow madly insanely love two year ago lad really know away five year board school idiot get clutch barmaid bristol marry registry office one know word matter imagine madden must upbraid would give eye know absolutely impossible sheer frenzy sort make throw hand air father last interview goad propose miss turner hand mean support father account hard man would throw utterly know truth barmaid wife spend last three day bristol father know mark point importance good come evil however barmaid find paper serious trouble likely hang throw utterly write say husband already bermuda dockyard really tie think bit news console young mccarthy suffer innocent ah would call attention particularly two point one murder man appointment someone pool someone could son son away know would return second murder man hear cry cooee know son return crucial point upon case depend let u talk george meredith please shall leave minor matter morrow rain holmes foretell morning break bright cloudless nine clock lestrade call u carriage set hatherley farm boscombe pool serious news morning lestrade observe say mr turner hall ill life despair elderly man presume say holmes sixty constitution shatter life abroad fail health time business bad effect upon old friend mccarthy may add great benefactor learn give hatherley farm rent free indeed interest say holmes oh yes hundred way help everybody speak kindness really strike little singular mccarthy appear little obligation turner still talk marry son turner daughter presumably heiress estate cocksure manner merely case proposal else would follow strange since know turner averse idea daughter tell u much deduce something get deduction inference say lestrade wink find hard enough tackle fact holmes without fly away theory fancy right say holmes demurely find hard tackle fact anyhow grasp one fact seem find difficult get hold reply lestrade warmth mccarthy senior meet death mccarthy junior theory contrary merest moonshine well moonshine bright thing fog say holmes laugh much mistake hatherley farm upon leave yes widespread comfortable look build two storied slate roof great yellow blotch lichen upon grey wall draw blind smokeless chimney however give stricken look though weight horror still lay heavy upon call door maid holmes request show u boot master wear time death also pair son though pair measure carefully seven eight different point holmes desire lead court yard follow wind track lead boscombe pool sherlock holmes transform hot upon scent men know quiet thinker logician baker street would fail recognise face flush darken brow draw two hard black line eye shine beneath steely glitter face bend downward shoulder bow lip compress vein stand like whipcord long sinewy neck nostril seem dilate purely animal lust chase mind absolutely concentrate upon matter question remark fell unheeded upon ear provoke quick impatient snarl reply swiftly silently make way along track run meadow way wood boscombe pool damp marshy grind district mark many foot upon path amid short grass bound either side sometimes holmes would hurry sometimes stop dead make quite little detour meadow lestrade walk behind detective indifferent contemptuous watch friend interest spring conviction every one action direct towards definite end boscombe pool little reed gird sheet water fifty yard across situate boundary hatherley farm private park wealthy mr turner wood line upon far side could see red jutting pinnacle mark site rich landowner dwell hatherley side pool wood grow thick narrow belt sodden grass twenty pace across edge tree reed line lake lestrade show u exact spot body find indeed moist grind could plainly see trace leave fall stricken man holmes could see eager face peer eye many thing read upon trample grass run round like dog pick scent turn upon companion go pool ask fish rake think might weapon trace earth oh tut tut time leave foot inward twist place mole could trace vanish among reed oh simple would come like herd buffalo wallow party lodge keeper come cover track six eight foot round body three separate track foot draw lens lay upon waterproof well view talk time rather u young mccarthy foot twice walk run swiftly sol deeply mark heel hardly visible bear story run saw father grind father foot pace butt end gun son stand listen ha ha tiptoe tiptoe square quite unusual boot come go come course cloak come run sometimes lose sometimes find track well within edge wood shadow great beech large tree neighbourhood holmes trace way far side lay upon face little cry satisfaction long time remain turn leave dry stick gather seem dust envelope examine lens grind even bark tree far could reach jag stone lie among moss also carefully examine retain follow pathway wood come highroad trace lose', 'case considerable interest remark return natural manner fancy grey house right must lodge think go word moran perhaps write little note may drive back luncheon may walk cab shall presently ten minute regain cab drive back ross holmes still carry stone pick wood may interest lestrade remark hold murder see mark none know grass grow lie day sign place whence take correspond injury sign weapon murderer tall man leave hand limp right leg wear thick sole shoot boot grey cloak smoke indian cigar us cigar holder carry blunt pen knife pocket several indication may enough aid u search lestrade laugh afraid still sceptic say theory well deal hard head british jury nous verrons answer holmes calmly work method shall work mine shall busy afternoon shall probably return london evening train leave case unfinished finish mystery solve criminal gentleman describe surely would difficult find populous neighbourhood lestrade shrug shoulder practical man say really undertake go country look leave hand gentleman game leg become laugh stock scotland yard right say holmes quietly give chance lodging good bye shall drop line leave leave lestrade room drive hotel find lunch upon table holmes silent bury think pain expression upon face one find perplex position look watson say cloth clear sit chair let preach little know quite value advice light cigar let expound pray well consider case two point young mccarthy narrative strike u instantly although impress favour one fact father accord account cry cooee see singular die reference rat mumble several word understand catch son ear double point research must commence begin presume lad say absolutely true cooee well obviously could mean son son far know bristol mere chance within earshot cooee mean attract attention whoever appointment cooee distinctly australian cry one use australian strong presumption person mccarthy expect meet boscombe pool someone australia rat sherlock holmes take fold paper pocket flatten table map colony victoria say wire bristol last night put hand part map read arat read raise hand ballarat quite word man utter son catch last two syllable try utter name murderer ballarat wonderful exclaim obvious see narrow field considerably possession grey garment third point grant son statement correct certainty come mere vagueness definite conception australian ballarat grey cloak certainly one home district pool approach farm estate stranger could hardly wander quite come expedition day examination grind gain trifle detail give imbecile lestrade personality criminal gain know method found upon observation trifle height know might roughly judge length stride boot might tell trace yes peculiar boot lameness impression right foot always less distinct leave put less weight upon limp lame leave handedness strike nature injury record surgeon inquest blow strike immediately behind yet upon leave side unless leave hand man stand behind tree interview father son even smoke find ash cigar special knowledge tobacco ash enable pronounce indian cigar know devote attention write little monograph ash 140 different variety pipe cigar cigarette tobacco find ash look round discover stump among moss toss indian cigar variety roll rotterdam cigar holder could see end mouth therefore use holder tip cut bite cut clean one deduce blunt pen knife holmes say draw net round man escape save innocent human life truly cut cord hang see direction point culprit mr john turner cry hotel waiter opening door sit room usher visitor man enter strange impressive figure slow limp step bow shoulder give appearance decrepitude yet hard deep line craggy feature enormous limb show possess unusual strength body character tangle beard grizzle hair outstanding droop eyebrow combine give air dignity power appearance face ashen white lip corner nostril ting shade blue clear glance grip deadly chronic disease pray sit sofa say holmes gently note yes lodge keeper bring say wish see avoid scandal think people would talk go hall wish see look across companion despair weary eye though question already answer yes say holmes answer look rather word know mccarthy old man sink face hand god help cry would let young man come harm give word would speak go assize glad hear say say holmes gravely would speak dear girl would break heart break heart hear arrest may come say holmes official agent understand daughter require presence act interest young mccarthy must get however die man say old turner diabetes year doctor say question whether shall live month yet would rather die roof gaol holmes rise sit table pen hand bundle paper tell u truth say shall jot fact sign watson witness could produce confession last extremity save young mccarthy promise shall use unless absolutely need well say old man question whether shall live assize matter little wish spare alice shock make thing clear long time act take long tell know dead man mccarthy devil incarnate tell god keep clutch man grip upon twenty year blast life tell first come power early 60 digging young chap hot blood reckless ready turn hand anything get among bad companion take drink luck claim take bush word become would call highway robber six u wild free life stick station time time stop wagon road digging black jack ballarat name go party still remember colony ballarat gang one day gold convoy come ballarat melbourne lay wait attack six trooper six u close thing empty four saddle first volley three boy kill however get swag put pistol head wagon driver man mccarthy wish lord shoot spar though saw wicked little eye fix face though remember every feature get away gold become wealthy men make way england without suspect part old pal determine settle quiet respectable life buy estate chance market set little good money make way earn marry though wife die young leave dear little alice even baby wee hand seem lead right path nothing else ever word turn new leaf best make past go well mccarthy lay grip upon go town investment meet regent street hardly coat back boot foot jack say touch arm good family two u son keep u fine law abide country england always policeman within hail well come west country shake live rent free best land ever since rest peace forgetfulness turn would cunning grinning face elbow grow bad alice grow soon saw afraid know past police whatever want must whatever give without question land money house last ask thing could give ask alice son see grow girl know weak health seem fine stroke lad step whole property firm would curse stock mix mine dislike lad blood enough stand firm mccarthy threaten brave worst meet pool midway house talk go find talk son smoke cigar wait behind tree alone listen talk black bitter seem come uppermost urging son marry daughter little regard might think slut street drive mad think hold dear power man could snap bond already die desperate man though clear mind fairly strong limb know fate seal memory girl could save could silence foul tongue mr holmes would deeply sin lead life martyrdom atone girl entangle mesh hold could suffer strike compunction foul venomous beast cry bring back son gain cover wood though force go back fetch cloak drop flight true story gentleman occur well judge say holmes old man sign statement draw pray may never expose temptation pray sir intend view health nothing aware soon answer deed high court assize keep confession mccarthy condemn shall force use shall never see mortal eye secret whether alive dead shall safe u farewell say old man solemnly deathbed come easy think peace give mine totter shake giant frame stumble slowly room god help u say holmes long silence fate play trick poor helpless worm never hear case think baxter word say grace god go sherlock holmes james mccarthy acquit assize strength number objection draw holmes submit defend counsel old turner live seven month interview dead every prospect son daughter may come live happily together ignorance black cloud rest upon past']\n"
    }
   ],
   "source": [
    "# Preprocessing\n",
    "# - Removing punctuation\n",
    "# - Tokenization = Breaking text into individual words\n",
    "# - Lemmatization = Bring words down to their root forms ('are' becomes 'be')\n",
    "# - Stopword removal\n",
    "from preprocessing import preprocess_text\n",
    "preprocessed_corpus = [preprocess_text(chapter) for chapter in corpus]\n",
    "print(preprocessed_corpus)"
   ]
  },
  {
   "cell_type": "code",
   "execution_count": 7,
   "metadata": {
    "tags": [
     "outputPrepend"
    ]
   },
   "outputs": [
    {
     "output_type": "stream",
     "name": "stdout",
     "text": "~~~ Topics found by bag of words LDA ~~~\nTopic #1: note street yet make\nTopic #2: make street find time\nTopic #3: find mccarthy leave give\nTopic #4: majesty mccarthy case word\nTopic #5: time young turner run\nTopic #6: photograph room street hand\nTopic #7: house street make find\nTopic #8: mccarthy son father case\nTopic #9: son mccarthy father find\nTopic #10: mccarthy father lestrade turner\n\n\n~~~ Topics found by tf-idf LDA ~~~\nTopic #1: one official paper help\nTopic #2: pace note pity monday\nTopic #3: holmes say upon man\nTopic #4: show memory occur equal\nTopic #5: lestrade say bit take\nTopic #6: side save deadly become\nTopic #7: peace youth seize interfere\nTopic #8: surgeon lake factor twist\nTopic #9: shadow something regent interview\nTopic #10: ill lip different sink\n"
    }
   ],
   "source": [
    "# Stopword removal\n",
    "\n",
    "# But stopword list is empty\n",
    "# Add some words to stop_list that don’t tell you much about the topic and then run your code again. Do this until you have at least 10 words in stop_list so that the bag of words LDA model has some interesting topics.\n",
    "stop_list = [\"say\", \"see\", \"holmes\", \"shall\", \"say\", \"man\", \"upon\", \"know\", \"quite\", \"one\", \"well\", \"could\", \"would\", \"take\", \"may\", \"think\", \"come\", \"go\", \"little\", \"must\", \"look\"]\n",
    "\n",
    "def filter_out_stop_words(corpus):\n",
    "  no_stops_corpus = []\n",
    "  for chapter in corpus:\n",
    "    no_stops_chapter = \" \".join([word for word in chapter.split(\" \") if word not in stop_list])\n",
    "    no_stops_corpus.append(no_stops_chapter)\n",
    "  return no_stops_corpus\n",
    "\n",
    "filtered_for_stops = filter_out_stop_words(preprocessed_corpus)\n",
    "\n",
    "# creating the bag of words model\n",
    "from sklearn.feature_extraction.text import CountVectorizer\n",
    "bag_of_words_creator = CountVectorizer()\n",
    "bag_of_words = bag_of_words_creator.fit_transform(filtered_for_stops)\n",
    "\n",
    "# creating the tf-idf model\n",
    "from sklearn.feature_extraction.text import TfidfVectorizer\n",
    "tfidf_creator = TfidfVectorizer(min_df = 0.2)\n",
    "tfidf = tfidf_creator.fit_transform(preprocessed_corpus)\n",
    "\n",
    "# creating the bag of words LDA model\n",
    "from sklearn.decomposition import LatentDirichletAllocation\n",
    "lda_bag_of_words_creator = LatentDirichletAllocation(learning_method='online', n_components=10)\n",
    "lda_bag_of_words = lda_bag_of_words_creator.fit_transform(bag_of_words)\n",
    "\n",
    "# creating the tf-idf LDA model\n",
    "lda_tfidf_creator = LatentDirichletAllocation(learning_method='online', n_components=10)\n",
    "lda_tfidf = lda_tfidf_creator.fit_transform(tfidf)\n",
    "\n",
    "print(\"~~~ Topics found by bag of words LDA ~~~\")\n",
    "for topic_id, topic in enumerate(lda_bag_of_words_creator.components_):\n",
    "  message = \"Topic #{}: \".format(topic_id + 1)\n",
    "  message += \" \".join([bag_of_words_creator.get_feature_names()[i] for i in topic.argsort()[:-5 :-1]])\n",
    "  print(message)\n",
    "\n",
    "print(\"\\n\\n~~~ Topics found by tf-idf LDA ~~~\")\n",
    "for topic_id, topic in enumerate(lda_tfidf_creator.components_):\n",
    "  message = \"Topic #{}: \".format(topic_id + 1)\n",
    "  message += \" \".join([tfidf_creator.get_feature_names()[i] for i in topic.argsort()[:-5 :-1]])\n",
    "  print(message)"
   ]
  }
 ]
}