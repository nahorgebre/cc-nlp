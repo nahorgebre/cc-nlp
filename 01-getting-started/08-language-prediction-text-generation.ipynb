{
 "nbformat": 4,
 "nbformat_minor": 2,
 "metadata": {
  "language_info": {
   "name": "python",
   "codemirror_mode": {
    "name": "ipython",
    "version": 3
   },
   "version": "3.7.7-final"
  },
  "orig_nbformat": 2,
  "file_extension": ".py",
  "mimetype": "text/x-python",
  "name": "python",
  "npconvert_exporter": "python",
  "pygments_lexer": "ipython3",
  "version": 3,
  "kernelspec": {
   "name": "python37764bitvenvvenvf8484b2721704b8daa1436929854442d",
   "display_name": "Python 3.7.7 64-bit ('venv': venv)"
  }
 },
 "cells": [
  {
   "cell_type": "markdown",
   "metadata": {},
   "source": [
    "# Language Prediction & Text Generation\n",
    "Language prediction is about predicting text given preceding text. Use Cases: Autosuggest, autocomplete, and suggested replies.\n",
    "<br>\n",
    "<br>\n",
    "The first step to language prediction is picking a language model.\n",
    "<br>\n",
    "<br>\n",
    "__Bag of words__ are not a great model for language prediction. One will just get one of the most commonly used words.\n",
    "<br>\n",
    "<br>\n",
    "The __n-gram__ route most likely rely on __Markov chains__ to predict the statistical likelihood of each following word. Statistical prediction based current n-gram on hand.\n",
    "<br>\n",
    "<br>\n",
    "__Long Short Term Memory (LSTM)__ uses deep learning with a network of artificial “cells” that manage memory, making them better suited for text prediction than traditional neural networks."
   ]
  },
  {
   "cell_type": "code",
   "execution_count": 1,
   "metadata": {},
   "outputs": [
    {
     "output_type": "stream",
     "name": "stdout",
     "text": "closer she s all so sick of what is the best whips pay attention to own me time i swear i doubt it every second i m so tired of you want that s forward and i m alone cause you all because of tears so tired of tears so\n"
    }
   ],
   "source": [
    "from document1 import training_doc1\n",
    "from document2 import training_doc2\n",
    "from document3 import training_doc3\n",
    "\n",
    "from markovchain import MarkovChain\n",
    "\n",
    "my_markov = MarkovChain()\n",
    "my_markov.add_document(training_doc1)\n",
    "my_markov.add_document(training_doc2)\n",
    "my_markov.add_document(training_doc3)\n",
    "generated_text = my_markov.generate_text()\n",
    "print(generated_text)"
   ]
  }
 ]
}