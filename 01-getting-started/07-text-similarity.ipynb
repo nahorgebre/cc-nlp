{
 "nbformat": 4,
 "nbformat_minor": 2,
 "metadata": {
  "language_info": {
   "name": "python",
   "codemirror_mode": {
    "name": "ipython",
    "version": 3
   }
  },
  "orig_nbformat": 2,
  "file_extension": ".py",
  "mimetype": "text/x-python",
  "name": "python",
  "npconvert_exporter": "python",
  "pygments_lexer": "ipython3",
  "version": 3
 },
 "cells": [
  {
   "cell_type": "markdown",
   "metadata": {},
   "source": [
    "# Text Similarity\n",
    "Addressing word similarity and misspelling for spellcheck or autocorrect often involves considering the Levenshtein distance or minimal edit distance between two words.\n",
    "The distance is calculated through the minimum number of insertions, deletions, and substitutions that would need to occur for one word to become another. \n",
    "\n",
    "__Phonetic similarity__ is used to for autocorrection and spelling correction. The similarity measure determine how much two words or phrases sound the same.\n",
    "<br>\n",
    "<br>\n",
    "__Lexical similarity__ is the degree to which texts use the same vocabulary and phrases. It can get used to guard against plagiarism. The similarity measure is the degree to which texts use the same vocabulary and phrases.\n",
    "<br>\n",
    "<br>\n",
    "__Semantic similarity__ is the degree to which documents contain similar meaning or topics. The measure is useful when you want to find (or recommend) an article or book similar to one you recently finished."
   ]
  }
 ]
}