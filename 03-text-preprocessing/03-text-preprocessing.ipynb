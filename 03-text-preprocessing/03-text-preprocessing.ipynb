{
 "cells": [
  {
   "cell_type": "markdown",
   "metadata": {},
   "source": [
    "# Normalization\n",
    "Text normalization is a catch-all term for various text pre-processing tasks including:\n",
    "<br>\n",
    "<div>\n",
    "- Upper or lowercasing\n",
    "<br>\n",
    "- Stopword removal\n",
    "<br>\n",
    "- Stemming - Bluntly removing prefixes and suffixes from a word\n",
    "<br>\n",
    "- Lemmatization - Replacing a single-word token with its root\n",
    "</div>"
   ]
  },
  {
   "cell_type": "code",
   "execution_count": 1,
   "metadata": {},
   "outputs": [
    {
     "output_type": "stream",
     "name": "stdout",
     "text": "salvation army, ymca, boys & girls club of america\nSALVATION ARMY, YMCA, BOYS & GIRLS CLUB OF AMERICA\n"
    }
   ],
   "source": [
    "# Upper and lower case\n",
    "brands = 'Salvation Army, YMCA, Boys & Girls Club of America'\n",
    "\n",
    "brands_lower = brands.lower()\n",
    "brands_upper = brands.upper()\n",
    "\n",
    "print(brands_lower)\n",
    "print(brands_upper)"
   ]
  }
 ],
 "metadata": {
  "kernelspec": {
   "display_name": "Python 3",
   "language": "python",
   "name": "python3"
  },
  "language_info": {
   "codemirror_mode": {
    "name": "ipython",
    "version": 3
   },
   "file_extension": ".py",
   "mimetype": "text/x-python",
   "name": "python",
   "nbconvert_exporter": "python",
   "pygments_lexer": "ipython3",
   "version": "3.7.7-final"
  }
 },
 "nbformat": 4,
 "nbformat_minor": 4
}