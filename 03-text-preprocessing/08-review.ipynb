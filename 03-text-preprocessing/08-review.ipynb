{
 "nbformat": 4,
 "nbformat_minor": 2,
 "metadata": {
  "language_info": {
   "name": "python",
   "codemirror_mode": {
    "name": "ipython",
    "version": 3
   }
  },
  "orig_nbformat": 2,
  "file_extension": ".py",
  "mimetype": "text/x-python",
  "name": "python",
  "npconvert_exporter": "python",
  "pygments_lexer": "ipython3",
  "version": 3
 },
 "cells": [
  {
   "cell_type": "markdown",
   "metadata": {},
   "source": [
    "# Review\n",
    "- Text preprocessing is all about cleaning and prepping text data so that it’s ready for other NLP tasks.\n",
    "- Noise removal is a text preprocessing step concerned with removing unnecessary formatting from our text.\n",
    "- Tokenization is a text preprocessing step devoted to breaking up text into smaller units (usually words or discrete terms).\n",
    "- Normalization is the name we give most other text preprocessing tasks, including stemming, lemmatization, upper and lowercasing, and stopword removal.\n",
    "- Stemming is the normalization preprocessing task focused on removing word affixes.\n",
    "- Lemmatization is the normalization preprocessing task that more carefully brings words down to their root forms."
   ]
  }
 ]
}