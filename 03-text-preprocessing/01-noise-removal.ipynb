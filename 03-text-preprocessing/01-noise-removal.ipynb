{
 "nbformat": 4,
 "nbformat_minor": 2,
 "metadata": {
  "language_info": {
   "name": "python",
   "codemirror_mode": {
    "name": "ipython",
    "version": 3
   },
   "version": "3.7.7-final"
  },
  "orig_nbformat": 2,
  "file_extension": ".py",
  "mimetype": "text/x-python",
  "name": "python",
  "npconvert_exporter": "python",
  "pygments_lexer": "ipython3",
  "version": 3,
  "kernelspec": {
   "name": "python37764bitvenvvenvf8484b2721704b8daa1436929854442d",
   "display_name": "Python 3.7.7 64-bit ('venv': venv)"
  }
 },
 "cells": [
  {
   "cell_type": "markdown",
   "metadata": {},
   "source": [
    "# Noise Removal\n",
    "Removes unwanted information such as:\n",
    "<div>\n",
    "- Punctuations and Accents\n",
    "<br>\n",
    "- Special Characters\n",
    "<br>\n",
    "- Numeric Digits\n",
    "<br>\n",
    "- Leading, Ending, and Vertical Whitespace\n",
    "<br>\n",
    "- HTML Formatting\n",
    "</div>\n",
    "<br>\n",
    "<div>\n",
    "The type of noise that you need to remove from text usually depends on its source.\n",
    "<br>\n",
    "One can use the .sub() method in Python’s regular expression (re) library for most of your noise removal needs. \n",
    "</div>"
   ]
  },
  {
   "cell_type": "code",
   "execution_count": 1,
   "metadata": {},
   "outputs": [
    {
     "output_type": "stream",
     "name": "stdout",
     "text": "Nation's Top Pseudoscientists Harness High-Energy Quartz Crystal Capable Of Reversing Effects Of Being Gemini\nfat_meats, veggies are better than you think.\n"
    }
   ],
   "source": [
    "import re\n",
    "\n",
    "headline_one = '<h1>Nation\\'s Top Pseudoscientists Harness High-Energy Quartz Crystal Capable Of Reversing Effects Of Being Gemini</h1>'\n",
    "tweet = '@fat_meats, veggies are better than you think.'\n",
    "\n",
    "headline_no_tag = re.sub(r'<.?h1>', '', headline_one)\n",
    "tweet_no_at = re.sub(r'@', '', tweet)\n",
    "\n",
    "print(headline_no_tag)\n",
    "print(tweet_no_at)"
   ]
  }
 ]
}