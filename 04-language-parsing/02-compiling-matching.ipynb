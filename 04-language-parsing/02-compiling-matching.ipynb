{
 "nbformat": 4,
 "nbformat_minor": 2,
 "metadata": {
  "language_info": {
   "name": "python",
   "codemirror_mode": {
    "name": "ipython",
    "version": 3
   },
   "version": "3.7.7-final"
  },
  "orig_nbformat": 2,
  "file_extension": ".py",
  "mimetype": "text/x-python",
  "name": "python",
  "npconvert_exporter": "python",
  "pygments_lexer": "ipython3",
  "version": 3,
  "kernelspec": {
   "name": "python37764bitvenvvenvf8484b2721704b8daa1436929854442d",
   "display_name": "Python 3.7.7 64-bit ('venv': venv)"
  }
 },
 "cells": [
  {
   "cell_type": "markdown",
   "metadata": {},
   "source": [
    "# Compiling and Matching\n",
    "Check if a string match a regular expression."
   ]
  },
  {
   "cell_type": "code",
   "execution_count": 2,
   "metadata": {},
   "outputs": [
    {
     "output_type": "stream",
     "name": "stdout",
     "text": "<re.Match object; span=(0, 5), match='Henry'> <re.Match object; span=(0, 5), match='Charl'>\nHenry Charl\n"
    }
   ],
   "source": [
    "import re\n",
    "\n",
    "string_1 = \"Henry\"\n",
    "string_2 = \"Charlotte\"\n",
    "\n",
    "# Compile a regular expression\n",
    "regular_expression = re.compile(\"\\w{5}\")\n",
    "\n",
    "# Check for a match\n",
    "result_1 = regular_expression.match(string_1)\n",
    "result_2 = regular_expression.match(string_2)\n",
    "print(result_1, result_2)\n",
    "\n",
    "# Store and print the matched text here\n",
    "match_1 = result_1.group(0)\n",
    "match_2 = result_2.group(0)\n",
    "print(match_1, match_2)"
   ]
  }
 ]
}