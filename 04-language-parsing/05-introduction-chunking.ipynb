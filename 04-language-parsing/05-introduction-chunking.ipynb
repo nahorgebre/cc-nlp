{
 "cells": [
  {
   "cell_type": "markdown",
   "metadata": {},
   "source": [
    "# Chuncking\n",
    "Given a part-of-speech tagged text, one can use regular expressions to find patterns in sentence structure.\n",
    "The technique of grouping words by their part-of-speech tag is called chunking.\n",
    "One can create a chunk grammar which matches any adjective which is followed by a noun."
   ]
  },
  {
   "cell_type": "code",
   "execution_count": 9,
   "metadata": {},
   "outputs": [
    {
     "output_type": "stream",
     "name": "stdout",
     "text": "[('Where', 'WRB'), ('is', 'VBZ'), ('the', 'DT'), ('emerald', 'JJ'), ('city', 'NN'), ('?', '.')]\n"
    }
   ],
   "source": [
    "text = \"Where is the emerald city?\"\n",
    "\n",
    "import nltk\n",
    "from nltk.tokenize import sent_tokenize\n",
    "\n",
    "text_tokenized_by_sent = sent_tokenize(text)\n",
    "\n",
    "from nltk.tokenize import word_tokenize\n",
    "\n",
    "tokenized_text = list()\n",
    "for sent in text_tokenized_by_sent:\n",
    "    tokenized_text.append(word_tokenize(sent))\n",
    "\n",
    "from nltk import pos_tag\n",
    "\n",
    "pos_tokenized_text = list()\n",
    "for sent in tokenized_text:\n",
    "    pos_tokenized_text.append(pos_tag(sent))\n",
    "\n",
    "print(pos_tokenized_text[0])"
   ]
  },
  {
   "cell_type": "code",
   "execution_count": 10,
   "metadata": {},
   "outputs": [
    {
     "output_type": "stream",
     "name": "stdout",
     "text": "S                              \n     ______________|____________________           \n    |       |      |     |              AN        \n    |       |      |     |       _______|_____     \nWhere/WRB is/VBZ the/DT ?/. emerald/JJ     city/NN\n\n"
    }
   ],
   "source": [
    "from nltk import RegexpParser, Tree\n",
    "\n",
    "chunk_grammar = \"AN: {<JJ><NN>}\"\n",
    "chunk_parser = RegexpParser(chunk_grammar)\n",
    "\n",
    "chunk = chunk_parser.parse(pos_tokenized_text[0])\n",
    "\n",
    "Tree.fromstring(str(chunk)).pretty_print()"
   ]
  }
 ],
 "metadata": {
  "language_info": {
   "codemirror_mode": {
    "name": "ipython",
    "version": 3
   },
   "file_extension": ".py",
   "mimetype": "text/x-python",
   "name": "python",
   "nbconvert_exporter": "python",
   "pygments_lexer": "ipython3",
   "version": "3.7.7-final"
  },
  "orig_nbformat": 2,
  "kernelspec": {
   "name": "python37764bitvenvvenvf8484b2721704b8daa1436929854442d",
   "display_name": "Python 3.7.7 64-bit ('venv': venv)"
  }
 },
 "nbformat": 4,
 "nbformat_minor": 2
}