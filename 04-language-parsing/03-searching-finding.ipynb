{
 "nbformat": 4,
 "nbformat_minor": 2,
 "metadata": {
  "language_info": {
   "name": "python",
   "codemirror_mode": {
    "name": "ipython",
    "version": 3
   },
   "version": "3.7.7-final"
  },
  "orig_nbformat": 2,
  "file_extension": ".py",
  "mimetype": "text/x-python",
  "name": "python",
  "npconvert_exporter": "python",
  "pygments_lexer": "ipython3",
  "version": 3,
  "kernelspec": {
   "name": "python37764bitvenvvenvf8484b2721704b8daa1436929854442d",
   "display_name": "Python 3.7.7 64-bit ('venv': venv)"
  }
 },
 "cells": [
  {
   "cell_type": "markdown",
   "metadata": {},
   "source": [
    "# Searching and Finding\n",
    "One can make regular expression matches even more dynamic with the help of the __.search()__ method.\n",
    "<br>\n",
    "Unlike __.match()__ which will only find matches at the start of a string, __.search()__ will look left to right through an entire piece of text and return a match object for the first match to the regular expression given.\n",
    "<br>\n",
    "<br>\n",
    "Given a regular expression as its first argument and a string as its second argument, __.findall()__ will return a list of all non-overlapping matches of the regular expression in the string."
   ]
  },
  {
   "cell_type": "code",
   "execution_count": 7,
   "metadata": {},
   "outputs": [
    {
     "output_type": "stream",
     "name": "stdout",
     "text": "Search for an occurrence of 'she' here:  <re.Match object; span=(67, 70), match='she'>\nFind all the occurrences of 'she' in here:  ['she', 'she', 'she', 'she', 'she', 'she']\nLength of all_she here:  6\n--------------------------------------------------------------\nSearch for an occurrence of 'i' here:  <re.Match object; span=(39, 40), match='i'>\nFind all the occurrences of 'i' in here:  ['i', 'i', 'i', 'i', 'i', 'i', 'i', 'i', 'i', 'i', 'i', 'i', 'i', 'i', 'i', 'i', 'i', 'i', 'i', 'i', 'i', 'i', 'i', 'i', 'i', 'i', 'i', 'i', 'i', 'i', 'i', 'i', 'i', 'i', 'i', 'i', 'i', 'i', 'i', 'i', 'i', 'i', 'i', 'i', 'i', 'i', 'i', 'i', 'i', 'i', 'i', 'i', 'i', 'i', 'i', 'i', 'i', 'i', 'i', 'i', 'i', 'i', 'i', 'i', 'i', 'i', 'i', 'i', 'i', 'i', 'i', 'i']\nLength of all_I here:  72\n"
    }
   ],
   "source": [
    "import re\n",
    "\n",
    "# Import document\n",
    "closer = open(\"closer.txt\",encoding='utf-8').read().lower()\n",
    "\n",
    "# Search for an occurrence of 'she' here\n",
    "found_she = re.search(\"she\", closer)\n",
    "print(\"Search for an occurrence of 'she' here: \", found_she)\n",
    "\n",
    "# Find all the occurrences of 'she' in here\n",
    "all_she = re.findall(\"she\", closer)\n",
    "print(\"Find all the occurrences of 'she' in here: \", all_she)\n",
    "\n",
    "# Length of all_I here\n",
    "number_She = len(all_she)\n",
    "print(\"Length of all_she here: \", number_She)\n",
    "\n",
    "print(\"--------------------------------------------------------------\")\n",
    "\n",
    "# Search for an occurrence of 'i' here\n",
    "found_i = re.search(\"i\", closer)\n",
    "print(\"Search for an occurrence of 'i' here: \", found_i)\n",
    "\n",
    "# Find all the occurrences of 'i' in here\n",
    "all_i = re.findall(\"i\", closer)\n",
    "print(\"Find all the occurrences of 'i' in here: \", all_I)\n",
    "\n",
    "# Length of all_I here\n",
    "number_I = len(all_I)\n",
    "print(\"Length of all_I here: \", number_I)"
   ]
  }
 ]
}