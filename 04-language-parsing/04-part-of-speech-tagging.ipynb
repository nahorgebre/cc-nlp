{
 "cells": [
  {
   "cell_type": "markdown",
   "metadata": {},
   "source": [
    "# Part-of-Speech Tagging\n",
    "One can find more meaning by analyzing text on a word-by-word basis, focussing on the part of speech of each word. The process of identifying and labeling the part of speech of words is known as part-of-speech tagging!"
   ]
  },
  {
   "cell_type": "code",
   "execution_count": null,
   "metadata": {},
   "outputs": [],
   "source": [
    "import nltk\n",
    "from nltk import pos_tag\n",
    "\n",
    "closer = open(\"closer.txt\",encoding='utf-8').read().lower()\n",
    "\n",
    "pos_tagged  = list()\n",
    "\n",
    "for word in word_tokenized_oz:\n",
    "  pos_tagged_oz.append(pos_tag(word))\n",
    "\n"
   ]
  }
 ],
 "metadata": {
  "language_info": {
   "name": "python",
   "codemirror_mode": {
    "name": "ipython",
    "version": 3
   }
  },
  "orig_nbformat": 2,
  "file_extension": ".py",
  "mimetype": "text/x-python",
  "name": "python",
  "npconvert_exporter": "python",
  "pygments_lexer": "ipython3",
  "version": 3
 },
 "nbformat": 4,
 "nbformat_minor": 2
}